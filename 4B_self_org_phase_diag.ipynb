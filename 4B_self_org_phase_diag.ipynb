{
 "cells": [
  {
   "cell_type": "code",
   "execution_count": 1,
   "id": "bab9449d",
   "metadata": {},
   "outputs": [],
   "source": [
    "import matplotlib.pyplot as plt\n",
    "import numpy as np\n",
    "from scipy import signal\n",
    "import sys\n",
    "\n",
    "from disp import set_plot\n",
    "\n",
    "cc = np.concatenate\n",
    "\n",
    "RT = np.linspace(-.05, 1.05, 501)\n",
    "RX = np.linspace(-.05, 1.05, 501)\n",
    "\n",
    "def plot_trj(ax, u_fn, w, t=None, xs=None, cscale=1):\n",
    "    v_mat = 1 + u_fn(RT)[:, None]@w[None, :]\n",
    "    ax.matshow(\n",
    "        cscale*(v_mat.T-1), origin='lower', extent=[RT[0], RT[-1], RX[0], RX[-1]],\n",
    "        vmin=-1, vmax=1, cmap='PuOr', zorder=0)  # pink = slow, g = fast, 1 = white\n",
    "    \n",
    "    if t is not None:\n",
    "        [ax.plot(t, x, c='k') for x in xs]\n",
    "    \n",
    "    ax.xaxis.tick_bottom()\n",
    "    set_plot(ax, x_label='t', y_label='x')"
   ]
  },
  {
   "cell_type": "code",
   "execution_count": 2,
   "id": "3aa2e259",
   "metadata": {},
   "outputs": [
    {
     "data": {
      "image/png": "[encoded data removed]",
      "text/plain": [
       "<Figure size 576x144 with 1 Axes>"
      ]
     },
     "metadata": {
      "needs_background": "light"
     },
     "output_type": "display_data"
    }
   ],
   "source": [
    "DT = .001\n",
    "PER_T = .2\n",
    "DUTY_T = .5\n",
    "T_0 = .1\n",
    "\n",
    "def u_fn(t_):\n",
    "    sq_wv = signal.square((2*np.pi*(t_- T_0)/PER_T), duty=DUTY_T)\n",
    "    return (sq_wv + 1)/2\n",
    "\n",
    "def w_fn(x_, w):\n",
    "    idx = np.argmin(np.abs(x_-RX))\n",
    "    return w[idx]\n",
    "\n",
    "fig, ax = plt.subplots(1, 1, figsize=(8, 2), tight_layout=True)\n",
    "ax.plot(RT, u_fn(RT))\n",
    "set_plot(ax, x_label='t', y_label='u(t)')"
   ]
  },
  {
   "cell_type": "code",
   "execution_count": 3,
   "id": "5d011fb2",
   "metadata": {},
   "outputs": [],
   "source": [
    "def smlt(x_0, t, u_fn, w):\n",
    "    \n",
    "    x = np.nan*np.zeros(len(t))\n",
    "    u = np.nan*np.zeros(len(t))\n",
    "    v = np.nan*np.zeros(len(t))\n",
    "    \n",
    "    x[0] = x_0\n",
    "    u[0] = u_fn(t[0])\n",
    "    v[0] = 1 + u[0]*w_fn(x[0], w)\n",
    "\n",
    "    for ct, t_ in enumerate(t[1:], 1):\n",
    "        u[ct] = u_fn(t_)\n",
    "        v[ct] = 1 + u[ct]*w_fn(x[ct-1], w)\n",
    "        x[ct] = x[ct-1] + DT*v[ct]\n",
    "        \n",
    "    return x, u, v"
   ]
  },
  {
   "cell_type": "code",
   "execution_count": 4,
   "id": "8a238f98",
   "metadata": {},
   "outputs": [],
   "source": [
    "def update_w(w, t, x, u, w_small, w_big, delta=0):\n",
    "    # create \"activation time-series\"\n",
    "    atvy = np.zeros((len(RX), len(t)))\n",
    "    \n",
    "    for ct, t_ in enumerate(t):\n",
    "        iatv = np.argmin(np.abs(x[ct] - RX))\n",
    "        if iatv < atvy.shape[0]:\n",
    "            atvy[iatv, ct] = 1\n",
    "        else:\n",
    "            break\n",
    "    \n",
    "    # # take time integral of each neuron's activation multiplied by shifted input\n",
    "    if delta > 0:\n",
    "        ishift = int(np.round(delta/DT))\n",
    "        u_shifted = cc([np.zeros(ishift), u[:len(u)-ishift]])\n",
    "    elif delta < 0:\n",
    "        ishift = int(np.round(np.abs(delta/DT)))\n",
    "        u_shifted = cc([u[ishift:], np.zeros(ishift)])\n",
    "    else:\n",
    "        u_shifted = u.copy()\n",
    "        \n",
    "    mx = (atvy@u_shifted > 0)\n",
    "    w_new = w.copy()\n",
    "    w_new[mx] = w_big\n",
    "    \n",
    "    # forgetting\n",
    "    w_new[~mx] = w_small\n",
    "    \n",
    "    return w_new, atvy, mx"
   ]
  },
  {
   "cell_type": "markdown",
   "id": "e96aa726",
   "metadata": {},
   "source": [
    "# Multiple rounds of plasticity"
   ]
  },
  {
   "cell_type": "code",
   "execution_count": 5,
   "id": "94cd1175",
   "metadata": {},
   "outputs": [],
   "source": [
    "NROUND = 3 #10\n",
    "# NROUND = 10\n",
    "X_0_NOISE = 0. #.025\n",
    "CSCALE = .7\n",
    "\n",
    "x_0s = np.array([-.05, -.03, -.01, .01, .03, .05])\n",
    "\n",
    "t = np.arange(0, 1., DT)\n",
    "\n",
    "def smlt_plasticity(w_small, w_big, delta, plot=False, plot_final=False):\n",
    "    \n",
    "    w = w_small*np.ones(len(RX))\n",
    "    \n",
    "    xs_test_all = []\n",
    "    \n",
    "    for cround in range(NROUND):\n",
    "\n",
    "        x, u, v = smlt(np.random.randn()*X_0_NOISE, t, u_fn, w)\n",
    "        w_new, atvy, mx = update_w(\n",
    "            w, t, x, u, w_small=w_small, w_big=w_big, delta=delta)\n",
    "\n",
    "        xs_test = np.array([smlt(x_0, t, u_fn, w_new)[0] for x_0 in x_0s])\n",
    "        \n",
    "        if plot or (plot_final and cround == (NROUND-1)):\n",
    "            \n",
    "            fig, axs = plt.subplots(1, 3, figsize=(12, 3.5), tight_layout=True)\n",
    "            plot_trj(axs[0], u_fn, w, t, [x], cscale=CSCALE)\n",
    "            set_plot(axs[0], x_lim=(-0.05, 1.05), y_lim=(-.05, 1.05), title='Trajectory')\n",
    "\n",
    "            plot_trj(axs[1], u_fn, w_new, t, [x], cscale=CSCALE)\n",
    "            set_plot(axs[1], x_lim=(-0.05, 1.05), y_lim=(-.05, 1.05), title=f'Result of plasticity round {cround+1}')\n",
    "\n",
    "            plot_trj(axs[2], u_fn, w_new, t, xs_test, cscale=CSCALE)\n",
    "            set_plot(axs[2], x_lim=(-0.05, 1.05), y_lim=(-.05, 1.05), title='Example trajs under frozen weights')\n",
    "\n",
    "        w = w_new\n",
    "        xs_test_all.append(xs_test)\n",
    "        \n",
    "    return xs_test_all"
   ]
  },
  {
   "cell_type": "code",
   "execution_count": 6,
   "id": "b60ffef8",
   "metadata": {},
   "outputs": [
    {
     "name": "stdout",
     "output_type": "stream",
     "text": [
      "w+: -0.8\n",
      ".........\n",
      "w+: -0.6000000000000001\n",
      ".........\n",
      "w+: -0.4\n",
      ".........\n",
      "w+: -0.19999999999999996\n",
      ".........\n",
      "w+: 0.0\n",
      ".........\n",
      "w+: 0.19999999999999996\n",
      ".........\n",
      "w+: 0.40000000000000013\n",
      ".........\n",
      "w+: 0.6000000000000001\n",
      ".........\n",
      "w+: 0.8\n",
      ".........\n"
     ]
    }
   ],
   "source": [
    "W_SMALL = 0\n",
    "W_BIGS = np.linspace(-.8, .8, 9)\n",
    "DELTAS = np.linspace(-.08, .08, 9)\n",
    "# W_BIGS = np.array([-.8, -.4, 0, .4, .8])\n",
    "# DELTAS = np.array([-.08, -.04, 0.0, .04, .08])\n",
    "NTR = 30\n",
    "\n",
    "cntrc_idxs = np.nan*np.zeros((len(W_BIGS), len(DELTAS), NTR))\n",
    "\n",
    "for cw_big, w_big in enumerate(W_BIGS):\n",
    "    print('w+:', w_big)\n",
    "    for cdelta, delta in enumerate(DELTAS):\n",
    "        sys.stdout.write('.')\n",
    "        for ctr in range(NTR):\n",
    "            # xs_test = smlt_plasticity(W_SMALL, w_big, delta, plot_final=True)[-1]\n",
    "            xs_test = smlt_plasticity(W_SMALL, w_big, delta)[-1]\n",
    "            IPER_T = int(round(PER_T/DT))\n",
    "#             cntrc_idx = np.std(xs_test[:, 2*IPER_T])/np.std(xs_test[:, 0])\n",
    "            cntrc_idx = np.std(xs_test[:, IPER_T])/np.std(xs_test[:, 0])\n",
    "            cntrc_idxs[cw_big, cdelta, ctr] = cntrc_idx\n",
    "    print()"
   ]
  },
  {
   "cell_type": "code",
   "execution_count": 17,
   "id": "68012ce3",
   "metadata": {},
   "outputs": [
    {
     "data": {
      "image/png": "[encoded data removed]",
      "text/plain": [
       "<Figure size 504x252 with 2 Axes>"
      ]
     },
     "metadata": {
      "needs_background": "light"
     },
     "output_type": "display_data"
    }
   ],
   "source": [
    "vmin = cntrc_idxs.mean(-1).min()\n",
    "vmax = cntrc_idxs.mean(-1).max()\n",
    "fig, axs = plt.subplots(1, 2, figsize=(7, 3.5), tight_layout=True)\n",
    "axs[0].matshow(cntrc_idxs.mean(-1).T, origin='lower', extent=[-1, 1, -.1, .1], vmin=vmin, vmax=vmax, cmap='PuOr')\n",
    "axs[0].xaxis.tick_bottom()\n",
    "axs[0].set_aspect('auto')\n",
    "set_plot(axs[0], x_label=r'$w^+$', y_label='∆ (s)', title='Contraction ratio')\n",
    "\n",
    "axs[1].matshow(cntrc_idxs.std(-1).T, origin='lower', extent=[-1, 1, -.1, .1])\n",
    "axs[1].xaxis.tick_bottom()\n",
    "axs[1].set_aspect('auto')\n",
    "set_plot(axs[1], x_label=r'$w^+$', y_label='∆ (s)', title='std')\n",
    "\n",
    "fig.savefig('ms/4_contraction_heatmap.svg')"
   ]
  },
  {
   "cell_type": "code",
   "execution_count": 18,
   "id": "d03562fd",
   "metadata": {},
   "outputs": [
    {
     "data": {
      "image/png": "[encoded data removed]",
      "text/plain": [
       "<Figure size 216x54 with 1 Axes>"
      ]
     },
     "metadata": {
      "needs_background": "light"
     },
     "output_type": "display_data"
    }
   ],
   "source": [
    "fig, ax = plt.subplots(1, 1, figsize=(3, .75), tight_layout=True)\n",
    "ax.matshow(np.linspace(vmin, vmax, 100)[None, :], origin='lower', cmap='PuOr',\n",
    "           extent=[vmin, vmax, 0, .15])\n",
    "# ax.set_xticks([0, .25, .5, .75, 1.])\n",
    "ax.xaxis.tick_bottom()\n",
    "ax.set_aspect('auto')\n",
    "ax.yaxis.set_visible(False)\n",
    "\n",
    "fig.savefig('ms/4_contraction_heatmap_cbar.svg')"
   ]
  },
  {
   "cell_type": "code",
   "execution_count": null,
   "id": "0f6345d6",
   "metadata": {},
   "outputs": [],
   "source": []
  }
 ],
 "metadata": {
  "kernelspec": {
   "display_name": "Python 3",
   "language": "python",
   "name": "python3"
  },
  "language_info": {
   "codemirror_mode": {
    "name": "ipython",
    "version": 3
   },
   "file_extension": ".py",
   "mimetype": "text/x-python",
   "name": "python",
   "nbconvert_exporter": "python",
   "pygments_lexer": "ipython3",
   "version": "3.7.10"
  }
 },
 "nbformat": 4,
 "nbformat_minor": 5
}
