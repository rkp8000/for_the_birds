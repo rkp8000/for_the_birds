{
 "cells": [
  {
   "cell_type": "markdown",
   "metadata": {},
   "source": [
    "# Spiking network demo of stable sequences through spatiotemporal modulation"
   ]
  },
  {
   "cell_type": "code",
   "execution_count": 1,
   "metadata": {},
   "outputs": [
    {
     "name": "stdout",
     "output_type": "stream",
     "text": [
      "T_M_E = 10.0 ms\n"
     ]
    }
   ],
   "source": [
    "%matplotlib inline\n",
    "from copy import deepcopy as copy\n",
    "import matplotlib.gridspec as gridspec\n",
    "import matplotlib.pyplot as plt\n",
    "import numpy as np\n",
    "from scipy import stats\n",
    "import os\n",
    "import sys\n",
    "\n",
    "from aux import Generic\n",
    "from disp import set_font_size, get_spaced_colors\n",
    "from ntwk import LIFNtwkG, join_w\n",
    "\n",
    "cc = np.concatenate\n",
    "\n",
    "# PARAMS\n",
    "## NEURON AND NETWORK MODEL\n",
    "M = Generic(\n",
    "    # Excitatory membrane\n",
    "    C_M_E=1e-6,  # membrane capacitance\n",
    "    G_L_E=.1e-3,  # membrane leak conductance (T_M (s) = C_M (F/cm^2) / G_L (S/cm^2))\n",
    "    E_L_E=-.06,  # membrane leak potential (V)\n",
    "    V_TH_E=-.05,  # membrane spike threshold (V)\n",
    "    T_R_E=.002,  # refractory period (s)\n",
    "    \n",
    "    # Inhibitory membrane\n",
    "    #C_M_I=1e-6,\n",
    "    #G_L_E=.1e-3, \n",
    "    #E_L_I=-.06,\n",
    "    #V_TH_E=-.05,\n",
    "    #T_R_I=.002,\n",
    "    \n",
    "    # syn rev potentials and decay times\n",
    "    E_E=0, E_I=-.08, E_A=-0.1, T_E=.002, T_I=.002, T_A=0.01,\n",
    "\n",
    "    # NTWK ARCHITECTURE\n",
    "    N_L=400,  # num chain links\n",
    "    N_L_E=30,  # num E nrns per chain link\n",
    "    N_I=200, # num I nrns (unused)\n",
    "    \n",
    "    W_R_E_E_L=1.4e-5,  # E-E recurrent cxns w/in chain link\n",
    "    W_R_E_E_F={'S': .65e-5, 'B': 1.e-5, 'F': 1.4e-5},  # E-E feed-forward link cxns for diff speeds\n",
    "    \n",
    "    W_A=.06e-3, # adaptation weight for all neurons\n",
    "    \n",
    "    W_R_E_I=0,  # recurrent I->E weights\n",
    "    W_R_I_E=0,  # recurrent E->I weights\n",
    "    \n",
    "    W_U_E_I=2e-5,  # upstream inh weights to E chain\n",
    "    W_U_E_E=4e-6,  #0,  # upstread exc weights to E chain\n",
    "    \n",
    "    P_CXN_E_E=.6,\n",
    "    P_CXN_E_I=1.,\n",
    "    \n",
    "    # MODULATION STRENGTH\n",
    "    FQ_SPK_U=800,  # modulatory input frq\n",
    "    PERIOD_T_U=.1,  # temporal mod period\n",
    "    PERIOD_S_U=150.,  # spatial mod period\n",
    "    \n",
    "    # OTHER INPUTS\n",
    "    SGM_N=.5e-9,  # noise level (A*sqrt(s))\n",
    "    I_EXT_B=0,  # additional baseline current input\n",
    ")\n",
    "\n",
    "M.N_E = M.N_L * M.N_L_E\n",
    "M.N_N = M.N_E + M.N_I\n",
    "M.X_E = cc([np.repeat(cl, M.N_L_E) for cl in range(M.N_L)])\n",
    "\n",
    "## SMLN\n",
    "S = Generic(RNG_SEED=0, DT=.0005)\n",
    "\n",
    "print('T_M_E =', 1000*M.C_M_E/M.G_L_E, 'ms')  # E cell membrane time constant (C_m/g_m)"
   ]
  },
  {
   "cell_type": "markdown",
   "metadata": {},
   "source": [
    "# Redefine functions for simulating a single set of parameters\n",
    "Specific comments on this code to be found in notebook D1"
   ]
  },
  {
   "cell_type": "markdown",
   "metadata": {},
   "source": [
    "### Redefine helper functions from D2a and D2b"
   ]
  },
  {
   "cell_type": "code",
   "execution_count": 2,
   "metadata": {},
   "outputs": [],
   "source": [
    "def rand_bin_array_with_percentage_ones(l, num_ones):\n",
    "    a = np.zeros(l)\n",
    "    a[:num_ones] = 1\n",
    "    np.random.shuffle(a)\n",
    "    return a\n",
    "\n",
    "\n",
    "def sprs_mat_with_rand_percent_cnxns(shape, row_percent):\n",
    "    num_ones = int(row_percent * shape[0])\n",
    "    stacked = np.stack([rand_bin_array_with_percentage_ones(shape[0], num_ones) for i in range(shape[1])])\n",
    "    return stacked"
   ]
  },
  {
   "cell_type": "markdown",
   "metadata": {},
   "source": [
    "### Helper functions for defining connectivity"
   ]
  },
  {
   "cell_type": "markdown",
   "metadata": {},
   "source": [
    "Recurrent neurons: N = N_E + N_I.\n",
    "\n",
    "Upstream neurons: one link's worth of E neurons (for trigger) + N"
   ]
  },
  {
   "cell_type": "code",
   "execution_count": 3,
   "metadata": {},
   "outputs": [],
   "source": [
    "# see D1 for specific comments on these functions\n",
    "\n",
    "## E-E weights\n",
    "def make_w_r_e(m):\n",
    "    w_r_e = np.zeros([m.N_N]*2)\n",
    "\n",
    "    # make spatial profile\n",
    "    sp = np.repeat('', m.N_L)\n",
    "\n",
    "    for l in range(m.N_L):\n",
    "        if 0 <= (l%m.PERIOD_S_U) < (.5*m.PERIOD_S_U):\n",
    "            sp[l] = 'B'\n",
    "        elif (.5*m.PERIOD_S_U) <= (l%m.PERIOD_S_U) < (.75*m.PERIOD_S_U):\n",
    "            sp[l] = 'S'\n",
    "        else:\n",
    "            sp[l] = 'F'\n",
    "    \n",
    "    # between links\n",
    "    # loop through links assigning correct feed forward weights\n",
    "    for l in range(m.N_L-1):\n",
    "        col = (l*m.N_L_E, (l+1)*m.N_L_E)  # src link\n",
    "        row = ((l+1)*m.N_L_E, (l+2)*m.N_L_E)  # targ link \n",
    "        w_r_e[row[0]:row[1], col[0]:col[1]] = m.W_R_E_E_F[sp[l]]*np.ones([m.N_L_E]*2)\n",
    "    \n",
    "    #w_r_e_e = m.W_R_E_E_F * np.kron(np.eye(m.N_L, k=-1), np.ones([m.N_L_E]*2))\n",
    "    \n",
    "    # within links\n",
    "    for l in range(m.N_L):\n",
    "        \n",
    "        w_r_e[(l * m.N_L_E):((l+1) * m.N_L_E), (l * m.N_L_E):((l+1) * m.N_L_E)] = \\\n",
    "            m.W_R_E_E_L * sprs_mat_with_rand_percent_cnxns((m.N_L_E, m.N_L_E), m.P_CXN_E_E)\n",
    "\n",
    "    w_r_e[m.N_E:, :m.N_E] = m.W_R_E_I * sprs_mat_with_rand_percent_cnxns((m.N_E, m.N_I), m.P_CXN_E_I)\n",
    "    \n",
    "    return w_r_e\n",
    "\n",
    "def make_w_r_i(m):\n",
    "    w_r_i = np.zeros((m.N_N, m.N_N))\n",
    "    w_r_i[:m.N_E, m.N_E:] = m.W_R_I_E * np.ones([m.N_E, m.N_I])\n",
    "    return w_r_i\n",
    "\n",
    "#def make_w_u_i(m, w_uv):\n",
    "#    w_u_i = np.zeros([m.N_N, m.N_L_E + m.N_N])\n",
    "#    w_u_i[:-m.N_I, m.N_L_E:-m.N_I] = w_uv * np.eye(m.N_E)\n",
    "#    return w_u_i\n",
    "\n",
    "def make_w_u_e_partial(m):\n",
    "    # make spatial profile\n",
    "    w_u_e = np.block([\n",
    "            [ 0.01 * np.eye(m.N_L_E), np.zeros([m.N_L_E, m.N_N]) ],\n",
    "            [ np.zeros([m.N_N - m.N_L_E, m.N_N + m.N_L_E]) ],\n",
    "        ])\n",
    "    #start = int(round(m.N_E/5))\n",
    "    #w_u_e[start:-m.N_I-start, m.N_L_E+start:-m.N_I-start] = m.W_U_E_E * np.eye(m.N_E-2*start)\n",
    "    return w_u_e\n",
    "\n",
    "def make_w_u_i_partial(m):\n",
    "    w_u_i = np.zeros([m.N_N, m.N_L_E + m.N_N])\n",
    "    start = int(round(m.N_E/5))\n",
    "    w_u_i[start:-m.N_I-start, m.N_L_E+start:-m.N_I-start] = m.W_U_E_I * np.eye(m.N_E-2*start)\n",
    "    return w_u_i*0"
   ]
  },
  {
   "cell_type": "markdown",
   "metadata": {},
   "source": [
    "## Analysis helper functions"
   ]
  },
  {
   "cell_type": "code",
   "execution_count": 4,
   "metadata": {},
   "outputs": [],
   "source": [
    "def decode_x(rsp, wdw=.002, min_spk=5):\n",
    "    \"\"\"Decode position from spike times and locations via a running median\"\"\"\n",
    "    x_mdn = np.nan * np.zeros(len(rsp.t))\n",
    "    # get exc spikes\n",
    "    me = rsp.spks_c < rsp.m.N_E\n",
    "    spks_t = rsp.spks_t[me]\n",
    "    spks_x = rsp.m.X_E[rsp.spks_c[me]]\n",
    "    \n",
    "    for ct, t_ in enumerate(rsp.t):\n",
    "        mt = (t_ - wdw/2 <= spks_t) & (spks_t < t_ + wdw/2)\n",
    "        if mt.sum() >= min_spk:\n",
    "            x_mdn[ct] = np.nanmedian(spks_x[mt])\n",
    "        \n",
    "    return x_mdn"
   ]
  },
  {
   "cell_type": "markdown",
   "metadata": {},
   "source": [
    "# Spatial intrinsic speed modulation, constant input"
   ]
  },
  {
   "cell_type": "code",
   "execution_count": 5,
   "metadata": {},
   "outputs": [
    {
     "data": {
      "image/png": "[encoded data removed]",
      "text/plain": [
       "<Figure size 1080x288 with 4 Axes>"
      ]
     },
     "metadata": {
      "needs_background": "light"
     },
     "output_type": "display_data"
    },
    {
     "data": {
      "image/png": "[encoded data removed]",
      "text/plain": [
       "<Figure size 1080x288 with 4 Axes>"
      ]
     },
     "metadata": {
      "needs_background": "light"
     },
     "output_type": "display_data"
    }
   ],
   "source": [
    "S.T = 0.5\n",
    "\n",
    "m = copy(M)\n",
    "\n",
    "np.random.seed(seed=0)\n",
    "\n",
    "# inputs\n",
    "t = np.arange(0, S.T, S.DT)\n",
    "t_u = [.01, .013]\n",
    "t_mask = (t_u[0] <= t) & (t < t_u[1])\n",
    "\n",
    "## external currents\n",
    "i_ext = m.SGM_N/S.DT * np.random.randn(len(t), m.N_N) + m.I_EXT_B\n",
    "\n",
    "## inp spks\n",
    "spks_u_base = np.zeros((len(t), m.N_L_E + m.N_N), dtype=int)\n",
    "\n",
    "# trigger inputs\n",
    "tmp = cc([np.ones(m.N_L_E, int), np.zeros(m.N_L_E*(t_mask.sum()-1))])\n",
    "spks_u_base[t_mask, :m.N_L_E] = tmp[np.random.permutation(len(tmp))].reshape(t_mask.sum(), m.N_L_E)\n",
    "\n",
    "rsps = []\n",
    "\n",
    "for fq_idx, fq_spk_u in enumerate([0, m.FQ_SPK_U]):\n",
    "\n",
    "    # input weights\n",
    "    w_u = {\n",
    "        # localized inputs to trigger activation from start of chain\n",
    "        'E': make_w_u_e_partial(m),\n",
    "\n",
    "        # global inhibitory inputs across chain\n",
    "        'I': make_w_u_i_partial(m),\n",
    "    }\n",
    "\n",
    "    # chain weights\n",
    "    w_r = {\n",
    "        'E': make_w_r_e(m),\n",
    "        'I': make_w_r_i(m),\n",
    "        'A': m.W_A * np.eye(m.N_N),\n",
    "    }\n",
    "\n",
    "    # upstream inputs\n",
    "    spks_u = spks_u_base.copy()\n",
    "    spks_u[:, m.N_L_E:-(m.N_I)] = np.random.poisson(fq_spk_u * S.DT, (len(t), m.N_E))\n",
    "\n",
    "    ntwk = LIFNtwkG(\n",
    "        c_m=m.C_M_E,\n",
    "        g_l=m.G_L_E,\n",
    "        e_l=m.E_L_E,\n",
    "        v_th=m.V_TH_E,\n",
    "        v_r=m.E_L_E,\n",
    "        t_r=m.T_R_E,\n",
    "        e_s={'E': m.E_E, 'I': m.E_I, 'A': m.E_A},\n",
    "        t_s={'E': m.T_E, 'I': m.T_E, 'A': m.T_A},\n",
    "        w_r=w_r,\n",
    "        w_u=w_u)\n",
    "\n",
    "    # initial condition\n",
    "    clamp = Generic(v={0: np.repeat(m.E_L_E, m.N_N)}, spk={})\n",
    "\n",
    "    # run smln\n",
    "    rsp = ntwk.run(dt=S.DT, clamp=clamp, i_ext=i_ext, spks_u=spks_u)\n",
    "    rsp.spks_u = spks_u.copy()\n",
    "    rsp.m = copy(m)\n",
    "\n",
    "    rsps.append(rsp)\n",
    "\n",
    "    fig, axs = plt.subplots(1, 4, figsize=(15, 4), tight_layout=True)\n",
    "    axs[0].matshow(w_r['E'], vmin=0, vmax=10e-6, cmap='binary')\n",
    "    axs[0].set_title('W_R[E]\\n')\n",
    "    axs[1].matshow(w_r['I'], vmin=0, vmax=10e-6, cmap='binary')\n",
    "    axs[1].set_title('W_R[I]\\n')\n",
    "\n",
    "    axs[2].matshow(w_u['E'], vmin=0, vmax=10e-6, cmap='binary')\n",
    "    axs[2].set_title('W_U[E]\\n')\n",
    "    axs[3].spy(w_u['I'], markersize=1)\n",
    "    axs[3].set_title('W_U[I]\\n')\n",
    "\n",
    "    for ax in axs.flatten():\n",
    "        set_font_size(ax, 14)"
   ]
  },
  {
   "cell_type": "code",
   "execution_count": 6,
   "metadata": {},
   "outputs": [
    {
     "data": {
      "text/plain": [
       "(0, 500.0)"
      ]
     },
     "execution_count": 6,
     "metadata": {},
     "output_type": "execute_result"
    },
    {
     "data": {
      "image/png": "[encoded data removed]",
      "text/plain": [
       "<Figure size 864x432 with 1 Axes>"
      ]
     },
     "metadata": {
      "needs_background": "light"
     },
     "output_type": "display_data"
    }
   ],
   "source": [
    "fig, ax = plt.subplots(1, 1, figsize=(12, 6), tight_layout=True)\n",
    "spks_t = rsps[0].spks_t[rsps[0].spks_c < M.N_E]\n",
    "spks_c = rsps[0].spks_c[rsps[0].spks_c < M.N_E]\n",
    "spks_x = M.X_E[spks_c]\n",
    "ax.scatter(1000*spks_t, spks_x, s=1)\n",
    "ax.set_xlabel('Time (ms)')\n",
    "ax.set_ylabel('Link position')\n",
    "set_font_size(ax, 16)\n",
    "ax.set_xlim(0, 1000*S.T)"
   ]
  },
  {
   "cell_type": "markdown",
   "metadata": {},
   "source": [
    "# Uniform intrinsic speed, time-varying input"
   ]
  },
  {
   "cell_type": "markdown",
   "metadata": {},
   "source": [
    "# Spatial and temporal modulation together"
   ]
  }
 ],
 "metadata": {
  "kernelspec": {
   "display_name": "Python 3",
   "language": "python",
   "name": "python3"
  },
  "language_info": {
   "codemirror_mode": {
    "name": "ipython",
    "version": 3
   },
   "file_extension": ".py",
   "mimetype": "text/x-python",
   "name": "python",
   "nbconvert_exporter": "python",
   "pygments_lexer": "ipython3",
   "version": "3.6.9"
  }
 },
 "nbformat": 4,
 "nbformat_minor": 2
}
