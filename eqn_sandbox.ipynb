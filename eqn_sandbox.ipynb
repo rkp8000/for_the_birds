{
 "cells": [
  {
   "cell_type": "markdown",
   "id": "accepting-lunch",
   "metadata": {},
   "source": [
    "$$x(t) = t$$"
   ]
  },
  {
   "cell_type": "markdown",
   "id": "ultimate-advertising",
   "metadata": {},
   "source": [
    "$$v_0(x) = 1-u(x)w(x)$$"
   ]
  }
 ],
 "metadata": {
  "kernelspec": {
   "display_name": "Python 3",
   "language": "python",
   "name": "python3"
  },
  "language_info": {
   "codemirror_mode": {
    "name": "ipython",
    "version": 3
   },
   "file_extension": ".py",
   "mimetype": "text/x-python",
   "name": "python",
   "nbconvert_exporter": "python",
   "pygments_lexer": "ipython3",
   "version": "3.6.13"
  }
 },
 "nbformat": 4,
 "nbformat_minor": 5
}
