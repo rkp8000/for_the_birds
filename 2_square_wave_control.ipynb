{
 "cells": [
  {
   "cell_type": "code",
   "execution_count": 1,
   "metadata": {},
   "outputs": [],
   "source": [
    "%matplotlib inline\n",
    "import matplotlib.pyplot as plt\n",
    "import numpy as np\n",
    "\n",
    "from aux import get_idx\n",
    "from disp import set_font_size\n",
    "\n",
    "DT = .001\n",
    "DX = .001\n",
    "\n",
    "T_MAX = 3\n",
    "X_MAX = 3"
   ]
  },
  {
   "cell_type": "raw",
   "metadata": {},
   "source": [
    "# symmetric landscape\n",
    "u_on = 1\n",
    "u_off = 0.\n",
    "\n",
    "w_inh = -.5\n",
    "w_exc = .5\n",
    "\n",
    "v0_base = 1.\n",
    "v0_slw = .5\n",
    "v0_fst = 1.5\n",
    "\n",
    "wdw_u_on = (.5, 1.)\n",
    "wdw_u_off = (0, .5)\n",
    "\n",
    "wdw_w_inh = (-.25, .25)\n",
    "wdw_w_exc = (.25, .75)\n",
    "\n",
    "wdw_v0_base = (0, .5)\n",
    "wdw_v0_slw = (.5, .75)\n",
    "wdw_v0_fst = (.75, 1.)\n",
    "\n",
    "xpl_c = ['gray', 'gray', 'k', 'k', 'k', 'k', 'k', 'k', 'k']\n",
    "xpl_lw = [2, 2, 2, 2, 5, 2, 2, 2, 2]\n",
    "\n",
    "save_abcd = '2abcd.svg'\n",
    "save_xpls = '2e.svg'\n",
    "save_crtn = '2i_part1.svg'"
   ]
  },
  {
   "cell_type": "raw",
   "metadata": {},
   "source": [
    "# centered attractor\n",
    "u_on = 1\n",
    "u_off = 0.\n",
    "\n",
    "w_inh = -.5\n",
    "w_exc = .5\n",
    "\n",
    "v0_base = 1.\n",
    "v0_slw = .5\n",
    "v0_fst = 1.5\n",
    "\n",
    "wdw_u_on = (.5, 1.)\n",
    "wdw_u_off = (0, .5)\n",
    "\n",
    "wdw_w_inh = (-.375, .125)\n",
    "wdw_w_exc = (.125, .625)\n",
    "\n",
    "wdw_v0_base = (0, .5)\n",
    "wdw_v0_slw = (.5, .625)\n",
    "wdw_v0_fst = (.625, 1.)\n",
    "\n",
    "xpl_c = ['gray', 'k', 'k', 'k', 'k', 'k', 'k', 'k', 'gray']\n",
    "xpl_lw = [2, 2, 2, 2, 5, 2, 2, 2, 2]\n",
    "\n",
    "save_abcd = False\n",
    "save_xpls = '2f.svg'\n",
    "save_crtn = '2i_part2.svg'"
   ]
  },
  {
   "cell_type": "raw",
   "metadata": {},
   "source": [
    "# temporally uniform modulation\n",
    "u_on = 1\n",
    "u_off = 0.\n",
    "\n",
    "w_inh = -.5\n",
    "w_exc = .5\n",
    "\n",
    "v0_base = 1.\n",
    "v0_slw = .5\n",
    "v0_fst = 1.5\n",
    "\n",
    "wdw_u_on = (0., 1.)\n",
    "wdw_u_off = (0, 0.)\n",
    "\n",
    "wdw_w_inh = (-.375, .125)\n",
    "wdw_w_exc = (.125, .625)\n",
    "\n",
    "wdw_v0_base = (0, .5)\n",
    "wdw_v0_slw = (.5, .625)\n",
    "wdw_v0_fst = (.625, 1.)\n",
    "\n",
    "xpl_c = ['gray', 'gray', 'gray', 'gray', 'gray', 'gray', 'gray', 'gray', 'gray']\n",
    "xpl_lw = [2, 2, 2, 2, 5, 2, 2, 2, 2]\n",
    "\n",
    "save_abcd = False\n",
    "save_xpls = '2g.svg'\n",
    "save_crtn = False"
   ]
  },
  {
   "cell_type": "code",
   "execution_count": 2,
   "metadata": {},
   "outputs": [],
   "source": [
    "# spatially uniform modulation\n",
    "u_on = 1\n",
    "u_off = 0.\n",
    "\n",
    "w_inh = -1\n",
    "w_exc = .5\n",
    "\n",
    "v0_base = 1.5\n",
    "v0_slw = .5\n",
    "v0_fst = 1.5\n",
    "\n",
    "wdw_u_on = (.5, 1.)\n",
    "wdw_u_off = (0, .5)\n",
    "\n",
    "wdw_w_inh = (0, 1)\n",
    "wdw_w_exc = (0, 0)\n",
    "\n",
    "wdw_v0_base = (0, 1)\n",
    "wdw_v0_slw = (0, 0)\n",
    "wdw_v0_fst = (0, 0)\n",
    "\n",
    "xpl_c = ['gray', 'gray', 'gray', 'gray', 'gray', 'gray', 'gray', 'gray', 'gray']\n",
    "xpl_lw = [2, 2, 2, 2, 5, 2, 2, 2, 2]\n",
    "\n",
    "save_abcd = False\n",
    "save_xpls = '2h.svg'\n",
    "save_crtn = False"
   ]
  },
  {
   "cell_type": "code",
   "execution_count": 3,
   "metadata": {},
   "outputs": [],
   "source": [
    "def get_u(t):\n",
    "    \n",
    "    tmp_a = (wdw_u_on[0] <= t%1) * (t%1 < wdw_u_on[1])\n",
    "    tmp_b = (wdw_u_on[0] <= t%1-1) * (t%1-1 < wdw_u_on[1])\n",
    "    \n",
    "    return u_on * (tmp_a + tmp_b)\n",
    "\n",
    "def get_w(x):\n",
    "    \n",
    "    tmp_a = (wdw_w_inh[0] <= x%1) * (x%1 < wdw_w_inh[1])\n",
    "    tmp_b = (wdw_w_inh[0] <= x%1-1) * (x%1-1 < wdw_w_inh[1])\n",
    "    \n",
    "    inh = w_inh * (tmp_a + tmp_b)\n",
    "    \n",
    "    tmp_a = (wdw_w_exc[0] <= x%1) * (x%1 < wdw_w_exc[1])\n",
    "    tmp_b = (wdw_w_exc[0] <= x%1-1) * (x%1-1 < wdw_w_exc[1])\n",
    "    \n",
    "    exc = w_exc * (tmp_a + tmp_b)\n",
    "    \n",
    "    return inh + exc\n",
    "\n",
    "def get_v0(x):\n",
    "    \n",
    "    tmp_a = (wdw_v0_base[0] <= x%1) * (x%1 < wdw_v0_base[1])\n",
    "    tmp_b = (wdw_v0_base[0] <= x%1-1) * (x%1-1 < wdw_v0_base[1])\n",
    "    \n",
    "    base = v0_base * (tmp_a + tmp_b)\n",
    "    \n",
    "    tmp_a = (wdw_v0_slw[0] <= x%1) * (x%1 < wdw_v0_slw[1])\n",
    "    tmp_b = (wdw_v0_slw[0] <= x%1-1) * (x%1-1 < wdw_v0_slw[1])\n",
    "    \n",
    "    slw = v0_slw * (tmp_a + tmp_b)\n",
    "\n",
    "    tmp_a = (wdw_v0_fst[0] <= x%1) * (x%1 < wdw_v0_fst[1])\n",
    "    tmp_b = (wdw_v0_fst[0] <= x%1-1) * (x%1-1 < wdw_v0_fst[1])\n",
    "    \n",
    "    fst = v0_fst * (tmp_a + tmp_b)\n",
    "    \n",
    "    return base + slw + fst"
   ]
  },
  {
   "cell_type": "code",
   "execution_count": 4,
   "metadata": {},
   "outputs": [
    {
     "data": {
      "image/png": "[encoded data removed]",
      "text/plain": [
       "<Figure size 720x144 with 2 Axes>"
      ]
     },
     "metadata": {
      "needs_background": "light"
     },
     "output_type": "display_data"
    }
   ],
   "source": [
    "t = np.arange(0, T_MAX, DT)\n",
    "x = np.arange(0, X_MAX, DX)\n",
    "u = get_u(t)\n",
    "w = get_w(x)\n",
    "v0 = get_v0(x)\n",
    "\n",
    "fig, axs = plt.subplots(1, 2, figsize=(10, 2), tight_layout=True)\n",
    "axs[0].plot(t, u, lw=3, c='b')\n",
    "axs[0].set_xlabel('Time (t) (a.u.)')\n",
    "axs[0].set_ylabel('u(t)')\n",
    "\n",
    "axs[1].plot(x, w, lw=3, c='k')\n",
    "axs[1].plot(x, v0, lw=3, c='m')\n",
    "axs[1].set_xlabel('Position (x) (a.u.)')\n",
    "axs[1].set_ylabel('w(x), v0(x)')\n",
    "\n",
    "set_font_size(axs, 16)"
   ]
  },
  {
   "cell_type": "code",
   "execution_count": 5,
   "metadata": {},
   "outputs": [
    {
     "data": {
      "image/png": "[encoded data removed]",
      "text/plain": [
       "<Figure size 1008x288 with 4 Axes>"
      ]
     },
     "metadata": {},
     "output_type": "display_data"
    }
   ],
   "source": [
    "v0_mat = np.outer(np.ones(len(t)), v0)\n",
    "w_mat = np.outer(np.ones(len(t)), w)\n",
    "u_mat = np.outer(u, np.ones(len(x)))\n",
    "\n",
    "uw = u_mat*w_mat\n",
    "\n",
    "fig, axs = plt.subplots(1, 4, figsize=(14, 4), tight_layout=True)\n",
    "axs[0].matshow(v0_mat.T, origin='lower', vmin=0, vmax=2, cmap='PiYG', extent=[0, T_MAX, 0, X_MAX])\n",
    "axs[0].set_title('Intrinsic speed landscape')\n",
    "\n",
    "axs[1].matshow(w_mat.T, origin='lower', vmin=-1, vmax=1, cmap='PiYG', extent=[0, T_MAX, 0, X_MAX])\n",
    "axs[1].set_title('Spatial modulation profile')\n",
    "\n",
    "axs[2].matshow(u_mat.T*w_mat.T, origin='lower', vmin=-1, vmax=1, cmap='PiYG', extent=[0, T_MAX, 0, X_MAX])\n",
    "axs[2].set_title('Spatiotemporal\\nmodulation profile')\n",
    "\n",
    "axs[3].matshow(u_mat.T*w_mat.T + v0_mat.T, origin='lower', vmin=0, vmax=2, cmap='PiYG', extent=[0, T_MAX, 0, X_MAX])\n",
    "axs[3].set_title('Modulated speed landscape')\n",
    "\n",
    "for ax in axs:\n",
    "    ax.set_xticks([])\n",
    "    ax.set_yticks([])\n",
    "    ax.xaxis.tick_bottom()\n",
    "    ax.set_xlabel('Time (t) (a.u.)')\n",
    "    ax.set_ylabel('Position (x) (a.u.)')\n",
    "    \n",
    "set_font_size(axs, 16)\n",
    "\n",
    "if save_abcd:\n",
    "    fig.savefig(f'ms/{save_abcd}')"
   ]
  },
  {
   "cell_type": "code",
   "execution_count": 6,
   "metadata": {},
   "outputs": [],
   "source": [
    "# funcs for getting nearest value\n",
    "def u_near(t_):\n",
    "    return u[get_idx(t_, 0, DT, len(t))]\n",
    "\n",
    "def w_near(x_):\n",
    "    return w[get_idx(x_, 0, DX, len(x))]\n",
    "\n",
    "def v0_near(x_):\n",
    "    return v0[get_idx(x_, 0, DX, len(x))]"
   ]
  },
  {
   "cell_type": "code",
   "execution_count": 7,
   "metadata": {},
   "outputs": [
    {
     "data": {
      "image/png": "[encoded data removed]",
      "text/plain": [
       "<Figure size 252x360 with 1 Axes>"
      ]
     },
     "metadata": {
      "needs_background": "light"
     },
     "output_type": "display_data"
    }
   ],
   "source": [
    "t_0 = .5\n",
    "x_0s = [0, .125, .25, .375, .5, .625, .75, .875, 1.]\n",
    "\n",
    "t_smln = np.arange(t_0, t_0 + 1, DT)\n",
    "x_smlns = []\n",
    "\n",
    "for x_0 in x_0s:\n",
    "    x_smln = np.nan * np.zeros(t_smln.shape)\n",
    "    x_smln[0] = x_0\n",
    "    for ct, t_ in enumerate(t_smln[1:], 1):\n",
    "        x_ = x_smln[ct-1]\n",
    "        v = u_near(t_)*w_near(x_) + v0_near(x_)\n",
    "        x_smln[ct] = x_ + DT*v\n",
    "        \n",
    "    x_smlns.append(x_smln)\n",
    "    \n",
    "\n",
    "fig, ax = plt.subplots(1, 1, figsize=(3.5, 5), tight_layout=True)\n",
    "ax.matshow(u_mat.T*w_mat.T + v0_mat.T, origin='lower', vmin=0, vmax=2, cmap='PiYG', extent=[0, T_MAX, -.5, X_MAX-.5])\n",
    "\n",
    "for cs, x_smln in enumerate(x_smlns):\n",
    "    ax.plot(t_smln, x_smln - .5, c=xpl_c[cs], lw=xpl_lw[cs])\n",
    "    \n",
    "ax.fill_between([.45, .475], [-.5, -.5], [.5, .5], color='b')\n",
    "\n",
    "\n",
    "ax.fill_between([1.52, 1.55], [.505, .505], [1.5, 1.5], color='b')\n",
    "\n",
    "ax.xaxis.tick_bottom()\n",
    "ax.set_xticks([.5, 1, 1.5])\n",
    "ax.set_xlim(t_0-.05, t_0+1.05)\n",
    "ax.set_ylim(-.5, x_0s[-1]+.5)\n",
    "\n",
    "ax.set_xlabel('Time (t) (a.u.)')\n",
    "ax.set_ylabel('Position (x) (a.u.)')\n",
    "\n",
    "set_font_size(ax, 16)\n",
    "\n",
    "fig.savefig(f'ms/{save_xpls}')"
   ]
  },
  {
   "cell_type": "code",
   "execution_count": 8,
   "metadata": {},
   "outputs": [
    {
     "data": {
      "image/png": "[encoded data removed]",
      "text/plain": [
       "<Figure size 360x288 with 1 Axes>"
      ]
     },
     "metadata": {
      "needs_background": "light"
     },
     "output_type": "display_data"
    }
   ],
   "source": [
    "x_0s = np.arange(0, 2.025, .025)\n",
    "\n",
    "t_smln = np.arange(t_0, t_0 + 1, DT)\n",
    "x_ends = np.nan * np.zeros(len(x_0s))\n",
    "\n",
    "for cx_0, x_0 in enumerate(x_0s):\n",
    "    x_smln = np.nan * np.zeros(t_smln.shape)\n",
    "    x_smln[0] = x_0\n",
    "    for ct, t_ in enumerate(t_smln[1:], 1):\n",
    "        x_ = x_smln[ct-1]\n",
    "        v = u_near(t_)*w_near(x_) + v0_near(x_)\n",
    "        x_smln[ct] = x_ + DT*v\n",
    "        \n",
    "    x_ends[cx_0] = x_smln[-1]\n",
    "    \n",
    "x_shifts = x_ends - x_0s - 1\n",
    "\n",
    "fig, ax = plt.subplots(1, 1, figsize=(5, 4), tight_layout=True)\n",
    "ax.plot(x_0s - .5, x_shifts, c='k', lw=2)\n",
    "ax.axhline(0, ls='--', color='gray')\n",
    "ax.axvline(0, ls='--', color='gray')\n",
    "ax.axvline(1, ls='--', color='gray')\n",
    "\n",
    "ax.set_xlim(-.5, 1.5)\n",
    "ax.set_ylim(-.5, .5)\n",
    "\n",
    "ax.set_xticks([-.5, 0, .5, 1, 1.5])\n",
    "\n",
    "ax.set_xlabel('Initial x')\n",
    "ax.set_ylabel('Relative change in x')\n",
    "\n",
    "ax.set_title('Correction after\\none time period')\n",
    "\n",
    "set_font_size(ax, 16)\n",
    "\n",
    "if save_crtn:\n",
    "    fig.savefig(f'ms/{save_crtn}')"
   ]
  },
  {
   "cell_type": "code",
   "execution_count": null,
   "metadata": {},
   "outputs": [],
   "source": []
  }
 ],
 "metadata": {
  "kernelspec": {
   "display_name": "Python 3",
   "language": "python",
   "name": "python3"
  },
  "language_info": {
   "codemirror_mode": {
    "name": "ipython",
    "version": 3
   },
   "file_extension": ".py",
   "mimetype": "text/x-python",
   "name": "python",
   "nbconvert_exporter": "python",
   "pygments_lexer": "ipython3",
   "version": "3.6.9"
  }
 },
 "nbformat": 4,
 "nbformat_minor": 2
}
